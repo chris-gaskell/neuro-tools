{
  "cells": [
    {
      "cell_type": "markdown",
      "metadata": {},
      "source": [
        "---\n",
        "# Listing options: https://quarto.org/docs/websites/website-listings.html\n",
        "title: \"Welcome to NeuroTools!\"\n",
        "subtitle: \"A place for neuropsychology nerds to assemble.\"\n",
        "---\n",
        "\n",
        "\n",
        "\n",
        "\n",
        "This is a website devoted to collecting resources for those working in clinical neuropsychology. The website is split up into the sections of Calculators, Guides,\n",
        "\n",
        "## Apps & Calculators {#website-landing-calculators}\n",
        "\n",
        "![landing-app](img/landing-app.jpg)\n",
        "\n",
        "## Guides {#website-landing-guides}\n",
        "\n",
        "![landing-steps](img/landing-steps.jpg)\n",
        "\n",
        "\n",
        "\n",
        "\n",
        "```{html}\n",
        "<h3> Support my work with a coffee </h3>\n",
        "\n",
        "<script type=\"text/javascript\" src=\"https://cdnjs.buymeacoffee.com/1.0.0/button.prod.min.js\" data-name=\"bmc-button\" data-slug=\"rappa753\" data-color=\"#06436e\" data-emoji=\"☕\"  data-font=\"Lato\" data-text=\"Support me\" data-outline-color=\"#ffffff\" data-font-color=\"#ffffff\" data-coffee-color=\"#FFDD00\" data-height=\"40px\" ></script>\n",
        "\n",
        "\n",
        "```"
      ],
      "id": "ad0e62df"
    }
  ],
  "metadata": {
    "kernelspec": {
      "display_name": "Python 3",
      "language": "python",
      "name": "python3"
    }
  },
  "nbformat": 4,
  "nbformat_minor": 5
}